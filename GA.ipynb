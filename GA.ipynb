{
 "cells": [
  {
   "cell_type": "code",
   "execution_count": 15,
   "id": "ad6e2830",
   "metadata": {},
   "outputs": [
    {
     "name": "stdout",
     "output_type": "stream",
     "text": [
      "(3879, 66)\n"
     ]
    }
   ],
   "source": [
    "import numpy as np\n",
    "from sklearn.model_selection import train_test_split\n",
    "from sklearn.linear_model import LinearRegression\n",
    "\n",
    "\n",
    "    # 平均值  \n",
    "    # P1\n",
    "    # P2     \n",
    "    # P1-P2  \n",
    "    # P1/P2  \n",
    "    # D12\n",
    "    # D21\n",
    "    # D11\n",
    "    # D21/D12\n",
    "    # Skew1\n",
    "    # Skew2  \n",
    "    # Kurt1\n",
    "    # Kurt2  \n",
    "    # 方差\n",
    "    # PeakToPeak\n",
    "    # Zero Crossing Rate  \n",
    "    # Energy \n",
    "    # 10s内有多少个周期   \n",
    "\n",
    "# 载入数据，特征矩阵 X 和目标向量 y\n",
    "X = np.load(\"./data/train_new_features_norm.npy\")\n",
    "# X = np.load(\"./data/features_train_without_resp_norm.npy\")\n",
    "X = X + 1\n",
    "X = np.delete(X, -10, axis=1)\n",
    "y = np.load(\"./data/train_without_resp.npy\")[:,1004]\n",
    "\n",
    "print(X.shape)"
   ]
  },
  {
   "cell_type": "code",
   "execution_count": 32,
   "id": "7ec8e70b",
   "metadata": {},
   "outputs": [
    {
     "name": "stdout",
     "output_type": "stream",
     "text": [
      "[0. 0. 0. 2. 0. 0. 0. 0. 0. 0. 1. 0. 0. 0. 0. 0. 0. 0. 0. 0. 0. 0. 1. 0.\n",
      " 0. 0. 0. 0. 1. 0. 0. 0. 0. 0. 0. 0. 2. 0. 0. 0. 0. 0. 2. 0. 0. 0. 0. 0.\n",
      " 0. 0. 0. 0. 0. 2. 0. 0. 0. 0. 0. 0. 2. 0. 0. 0. 0. 1.]\n"
     ]
    }
   ],
   "source": [
    "# 定义基因操作 0不动 1乘 2除 46\n",
    "operations = np.array([0,1,2])\n",
    "\n",
    "# 定义遗传算法参数\n",
    "population_size = 500\n",
    "num_generations = 1000\n",
    "mutation_rate = 0.5\n",
    "\n",
    "def evaluate_fitness(individual):\n",
    "    # 根据操作序列 individual 构建特征组合\n",
    "    feature_combination = build_feature_combination(X, individual)\n",
    "    \n",
    "    # 训练模型并计算适应度（例如，使用线性回归模型）\n",
    "    model = LinearRegression()\n",
    "    model.fit(feature_combination, y)\n",
    "    predictions = model.predict(feature_combination)\n",
    "    fitness = np.mean(np.abs(predictions - y))  # 均方误差作为适应度\n",
    "    \n",
    "    return fitness\n",
    "\n",
    "def build_feature_combination(X, individual):\n",
    "    # 根据操作序列 individual 构建特征组合\n",
    "    feature_combination = [[]]\n",
    "    flag = 0\n",
    "    for i in range(len(individual)):\n",
    "        if individual[i] == 0:\n",
    "            continue\n",
    "        elif individual[i] == 1:\n",
    "            if flag == 0:\n",
    "                feature_combination = X[:,i]\n",
    "                flag = 1\n",
    "            else:\n",
    "                feature_combination = feature_combination * X[:,i]\n",
    "        elif individual[i] == 2:\n",
    "            if flag == 0:\n",
    "                feature_combination = X[:,i]\n",
    "                flag = 1\n",
    "            else:\n",
    "                feature_combination = feature_combination / X[:,i]\n",
    "    if flag == 0:\n",
    "        return X[:,1].reshape(-1,1)\n",
    "    return np.array(feature_combination).reshape(-1,1)\n",
    "\n",
    "def genetic_algorithm():\n",
    "    # 初始化种群\n",
    "#     population = np.random.randint(0, 3, size=(population_size, len(X[0])))\n",
    "    population = np.zeros((population_size, len(X[0])))\n",
    "#     population[:,1] = 1\n",
    "\n",
    "    best_individual = None  # 用于存储当前最优个体\n",
    "    best_fitness = float('inf')\n",
    "    \n",
    "    for generation in range(num_generations):\n",
    "        # 计算适应度\n",
    "        fitness_scores = [evaluate_fitness(individual) for individual in population]\n",
    "      \n",
    "    \n",
    "        # 精英保留\n",
    "        elite_size = int(0.1 * population_size)\n",
    "        elite_individuals = np.argsort(fitness_scores)[:elite_size]\n",
    "        \n",
    "        # 选择父代个体\n",
    "        parents = np.argsort(fitness_scores)[:population_size // 5]\n",
    "        \n",
    "        # 创建子代个体\n",
    "        children = []\n",
    "        for i in range(population_size - elite_size):\n",
    "            parent1 = population[np.random.choice(parents)]\n",
    "            parent2 = population[np.random.choice(parents)]\n",
    "            child = np.where(np.random.rand(len(X[0])) < 0.5, parent1, parent2)\n",
    "            \n",
    "            # 变异操作\n",
    "            if np.random.rand() < mutation_rate:\n",
    "                mutated_gene = np.random.randint(len(operations))\n",
    "                mutation_position = np.random.randint(len(X[0]))\n",
    "                child[mutation_position] = mutated_gene\n",
    "            \n",
    "            children.append(child)\n",
    "        \n",
    "        next_generation = np.concatenate((population[elite_individuals], np.array(children)))\n",
    "        population = next_generation\n",
    "    \n",
    "    # 找到最优个体\n",
    "    best_individual = population[np.argmin(fitness_scores)]\n",
    "    \n",
    "    return best_individual\n",
    "\n",
    "best_individual = genetic_algorithm()\n",
    "\n",
    "# 使用最优个体生成特征组合并进行预测\n",
    "best_feature_combination = build_feature_combination(X, best_individual)\n",
    "model = LinearRegression()\n",
    "model.fit(best_feature_combination, y)\n",
    "predictions = model.predict(best_feature_combination)\n",
    "\n",
    "print(best_individual)"
   ]
  },
  {
   "cell_type": "code",
   "execution_count": 33,
   "id": "826f450e",
   "metadata": {},
   "outputs": [
    {
     "name": "stdout",
     "output_type": "stream",
     "text": [
      "7.736125986542999\n"
     ]
    }
   ],
   "source": [
    "print(evaluate_fitness(best_individual))\n",
    "# tmp = np.load(\"./data/features_train_without_resp_norm.npy\")[:,-10].reshape(-1,1)\n",
    "# model2 = LinearRegression()\n",
    "# model2.fit(tmp, y)\n",
    "# predictions = model2.predict(tmp)\n",
    "# fitness = np.mean(np.abs(predictions - y))  # 均方误差作为适应度\n",
    "# print(fitness)"
   ]
  }
 ],
 "metadata": {
  "kernelspec": {
   "display_name": "pytorch",
   "language": "python",
   "name": "pytorch"
  },
  "language_info": {
   "codemirror_mode": {
    "name": "ipython",
    "version": 3
   },
   "file_extension": ".py",
   "mimetype": "text/x-python",
   "name": "python",
   "nbconvert_exporter": "python",
   "pygments_lexer": "ipython3",
   "version": "3.9.15"
  }
 },
 "nbformat": 4,
 "nbformat_minor": 5
}
